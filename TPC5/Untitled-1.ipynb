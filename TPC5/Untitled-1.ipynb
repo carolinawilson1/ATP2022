{
 "cells": [
  {
   "cell_type": "code",
   "execution_count": 2,
   "metadata": {},
   "outputs": [
    {
     "name": "stdout",
     "output_type": "stream",
     "text": [
      "     idade sexo  tensão  colesterol  batimento  temDoença\n",
      "0       40    M     140         289        172          0\n",
      "1       49    F     160         180        156          1\n",
      "2       37    M     130         283         98          0\n",
      "3       48    F     138         214        108          1\n",
      "4       54    M     150         195        122          0\n",
      "..     ...  ...     ...         ...        ...        ...\n",
      "834     44    M     120         220        170          0\n",
      "835     54    M     110         239        126          1\n",
      "836     65    M     135         254        127          1\n",
      "837     57    M     150         168        174          0\n",
      "838     63    M     130         330        132          1\n",
      "\n",
      "[839 rows x 6 columns]\n"
     ]
    }
   ],
   "source": [
    "import pandas as pd \n",
    "import csv\n",
    "ficheiro=pd.read_csv('myheart.csv')\n",
    "print(ficheiro)\n",
    "\n"
   ]
  },
  {
   "cell_type": "code",
   "execution_count": 25,
   "metadata": {},
   "outputs": [
    {
     "name": "stdout",
     "output_type": "stream",
     "text": [
      "Há 152 pacientes no nivel de colesterol [0, 10]\n",
      "Há 1 pacientes no nivel de colesterol [90, 100]\n",
      "Há 2 pacientes no nivel de colesterol [100, 110]\n",
      "Há 3 pacientes no nivel de colesterol [110, 120]\n",
      "Há 2 pacientes no nivel de colesterol [120, 130]\n",
      "Há 1 pacientes no nivel de colesterol [130, 140]\n",
      "Há 2 pacientes no nivel de colesterol [140, 150]\n",
      "Há 5 pacientes no nivel de colesterol [150, 160]\n",
      "Há 8 pacientes no nivel de colesterol [160, 170]\n",
      "Há 11 pacientes no nivel de colesterol [170, 180]\n",
      "Há 9 pacientes no nivel de colesterol [180, 190]\n",
      "Há 13 pacientes no nivel de colesterol [190, 200]\n",
      "Há 21 pacientes no nivel de colesterol [200, 210]\n",
      "Há 31 pacientes no nivel de colesterol [210, 220]\n",
      "Há 29 pacientes no nivel de colesterol [220, 230]\n",
      "Há 25 pacientes no nivel de colesterol [230, 240]\n",
      "Há 21 pacientes no nivel de colesterol [240, 250]\n",
      "Há 22 pacientes no nivel de colesterol [250, 260]\n",
      "Há 28 pacientes no nivel de colesterol [260, 270]\n",
      "Há 19 pacientes no nivel de colesterol [270, 280]\n",
      "Há 27 pacientes no nivel de colesterol [280, 290]\n",
      "Há 16 pacientes no nivel de colesterol [290, 300]\n",
      "Há 14 pacientes no nivel de colesterol [300, 310]\n",
      "Há 8 pacientes no nivel de colesterol [310, 320]\n",
      "Há 6 pacientes no nivel de colesterol [320, 330]\n",
      "Há 8 pacientes no nivel de colesterol [330, 340]\n",
      "Há 5 pacientes no nivel de colesterol [340, 350]\n",
      "Há 1 pacientes no nivel de colesterol [350, 360]\n"
     ]
    }
   ],
   "source": [
    "import pandas as pd \n",
    "import csv\n",
    "def TabelaH():\n",
    "    ficheiro=pd.read_csv('myheart.csv')\n",
    "    print(ficheiro)\n",
    "\n",
    "tabela = []\n",
    "\n",
    "def leInformaçao():\n",
    "    ficheiro = open('myheart.csv', mode='r')\n",
    "    informaçao = csv.reader(ficheiro,delimiter=',')\n",
    "    nlinha = 0\n",
    "    for linha in informaçao:\n",
    "        if nlinha == 0:\n",
    "            nlinha += 1\n",
    "        else:\n",
    "            tabela.append((int(linha[0]),linha[1],int(linha[2]),int(linha[3]),int(linha[4]),int(linha[5])))\n",
    "\n",
    "def distribuiçaoSexo():\n",
    "    leInformaçao()\n",
    "    contadorM = 0\n",
    "    contadorF = 0\n",
    "    for t in tabela:\n",
    "        idade,sexo,tensao,colesterol,batimento,temd = t\n",
    "        if temd==1 and sexo=='M':\n",
    "            contadorM+=1\n",
    "        elif temd==1 and sexo=='F':\n",
    "            contadorF+=1\n",
    "    print(\"Há {} pacientes que são mulheres\".format(contadorF))\n",
    "    print(\"Há {} pacientes que são homens\".format(contadorM))\n",
    "\n",
    "def distribuiçaoIdade():\n",
    "    leInformaçao()\n",
    "    lista = []\n",
    "    escaloes = [[20,24],[25,29],[30,34],[35,39],[40,44],[45,49],[50,54],[55,59],[60,64],[65,69],[70,74],[75,79],[80,84],[85,89]]\n",
    "    for t in tabela:\n",
    "        idade,sexo,tensao,colesterol,batimento,temd = t\n",
    "        for escalao in escaloes:\n",
    "            if temd==1 and idade>=escalao[0] and idade<=escalao[1]:\n",
    "                lista.append(escalao)\n",
    "    for escalao in escaloes:\n",
    "        print(\"Há {} pacientes do escalao {}\".format(lista.count(escalao), escalao))\n",
    "\n",
    "def distribuiçaoColesterol():\n",
    "    leInformaçao()\n",
    "    lista = []\n",
    "    niveis = [[0,10],[90,100],[100,110],[110,120],[120,130],[130,140],[140,150],[150,160],[160,170],[170,180],[180,190],[190,200],[200,210],[210,220],[220,230],[230,240],[240,250],[250,260],[260,270],[270,280],[280,290],[290,300],[300,310],[310,320],[320,330],[330,340],[340,350],[350,360]]    \n",
    "    for t in tabela:\n",
    "        idade,sexo,tensao,colesterol,batimento,temd = t\n",
    "        for nivel in niveis:\n",
    "            if temd == 1 and colesterol>=nivel[0] and colesterol<=nivel[1]:\n",
    "                lista.append(nivel)\n",
    "    for nivel in niveis:\n",
    "        print(\"Há {} pacientes no nivel de colesterol {}\".format(lista.count(nivel), nivel))\n",
    "\n",
    "def menu():\n",
    "    opc = input(\"Escolha a função que deseja selecionar (Distribuiçao por sexo, idade ou colesterol)\")\n",
    "    if opc == \"sexo\":\n",
    "        distribuiçaoSexo()\n",
    "    elif opc == \"idade\":\n",
    "        distribuiçaoIdade()\n",
    "    elif opc == \"colesterol\":\n",
    "        distribuiçaoColesterol()\n",
    "menu()\n",
    "\n"
   ]
  }
 ],
 "metadata": {
  "kernelspec": {
   "display_name": "Python 3.10.7 64-bit",
   "language": "python",
   "name": "python3"
  },
  "language_info": {
   "codemirror_mode": {
    "name": "ipython",
    "version": 3
   },
   "file_extension": ".py",
   "mimetype": "text/x-python",
   "name": "python",
   "nbconvert_exporter": "python",
   "pygments_lexer": "ipython3",
   "version": "3.10.7"
  },
  "orig_nbformat": 4,
  "vscode": {
   "interpreter": {
    "hash": "14c278ee34bf5f9bb5b29d161632687207780f9a2b4c35a5d97fe65c41f2ad20"
   }
  }
 },
 "nbformat": 4,
 "nbformat_minor": 2
}
