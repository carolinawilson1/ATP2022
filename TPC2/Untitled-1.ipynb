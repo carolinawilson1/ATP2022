{
 "cells": [
  {
   "cell_type": "code",
   "execution_count": 1,
   "metadata": {},
   "outputs": [
    {
     "name": "stdout",
     "output_type": "stream",
     "text": [
      "O número sorteado é maior\n",
      "O número sorteado é menor\n",
      "O número sorteado é menor\n",
      "O número sorteado é menor\n",
      "O número sorteado é menor\n",
      "Acertou com 5 tentativas!\n"
     ]
    }
   ],
   "source": [
    "from random import randint\n",
    "num1 = randint(1, 101)\n",
    "tentativas = 0\n",
    "num2 = int(input(\"Introduza o seu valor.\"))\n",
    "while num1 != num2:\n",
    "    if num1 > num2:\n",
    "        print(\"O número sorteado é maior\")\n",
    "    else:\n",
    "        print(\"O número sorteado é menor\")\n",
    "    num2 = int(input(\"Introduza um novo valor.\"))\n",
    "    tentativas = tentativas + 1\n",
    "print(\"Acertou com {} tentativas!\".format(tentativas))"
   ]
  }
 ],
 "metadata": {
  "kernelspec": {
   "display_name": "Python 3.10.7 64-bit",
   "language": "python",
   "name": "python3"
  },
  "language_info": {
   "codemirror_mode": {
    "name": "ipython",
    "version": 3
   },
   "file_extension": ".py",
   "mimetype": "text/x-python",
   "name": "python",
   "nbconvert_exporter": "python",
   "pygments_lexer": "ipython3",
   "version": "3.10.7"
  },
  "orig_nbformat": 4,
  "vscode": {
   "interpreter": {
    "hash": "14c278ee34bf5f9bb5b29d161632687207780f9a2b4c35a5d97fe65c41f2ad20"
   }
  }
 },
 "nbformat": 4,
 "nbformat_minor": 2
}
