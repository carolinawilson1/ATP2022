{
 "cells": [
  {
   "cell_type": "markdown",
   "id": "1e545158",
   "metadata": {},
   "source": [
    "# Aula Prática 6 (guião)\n",
    "### Semana de 24 a 28 de Outubro de 2022\n",
    "### José Carlos Ramalho e Luís Cunha\n",
    "### Sinopsis:\n",
    "**Vamos desenhar**: Algoritmos e modelação de problemas com representações gráficas."
   ]
  },
  {
   "cell_type": "markdown",
   "id": "7322d8fc",
   "metadata": {},
   "source": [
    "### Exercício 1: Processando um dataset em CSV\n",
    "\n",
    "Escreve um programa que lê o dataset `obras.csv` e realiza as seguintes tarefas (tenta isolar cada tarefa numa função):\n",
    "* Carrega o dataset para uma estrutura de dados pensada por ti;\n",
    "* Quantas obras existem catalogadas no dataset?\n",
    "* Imprime no monitor uma tabela com o título da obra, a sua descrição, o seu compositor e ano de criação;\n",
    "* Produz uma lista de tuplos `(título, ano)` ordenada alfabeticamente por título;\n",
    "* Produz uma lista de tuplos `(título, ano)` ordenada crescentemente por ano;\n",
    "* Produz uma lista ordenada dos compositores;\n",
    "* Calcula uma distribuição das obras por período;\n",
    "* Calcula uma distribuição das obras por ano;\n",
    "* Calcula uma distribuição das obras por compositor;\n",
    "* Especifica uma função que recebendo uma distribuição desenha o seu gráfico. Aplica-a às distribuições anteriores;\n",
    "* Problema da inversão estrutural: calcula uma estrutura de dados que corresponde a uma lista dos compositores em que cada compositor tem a ele associado uma lista dos títulos das obras que compôs;\n",
    "* Cria uma função de visualização para estrutura de dados calculada na alínea anterior.\n"
   ]
  },
  {
   "cell_type": "code",
   "execution_count": 1,
   "id": "fcd61505",
   "metadata": {},
   "outputs": [],
   "source": [
    "# Solução do exercício 1\n",
    "import obras\n",
    "\n",
    "myObras = obras.readDataset(\"../tpc6/obras.csv\")"
   ]
  },
  {
   "cell_type": "code",
   "execution_count": 2,
   "id": "fa23ea6c",
   "metadata": {},
   "outputs": [
    {
     "name": "stdout",
     "output_type": "stream",
     "text": [
      "('Rage Over a Lost Penny', 'The \"Rondo alla ingharese quasi un capriccio\" in G major, Op. 129 (Italian: \"Rondo in the Hungarian [i.e. gypsy] style, almost a\\n         caprice\"), is a piano rondo by Ludwig van Beethoven. It is better known by the title Rage Over a Lost Penny, Vented in a Caprice (from\\n         German: Die Wut über den verlorenen Groschen, ausgetobt in einer Caprice). This title appears on the autograph manuscript, but not in\\n         Beethoven\\'s hand, and has been attributed to his friend Anton Schindler. It is a favourite with audiences and is frequently performed as a\\n         show piece.', '1745', 'Barroco', 'Krebs, Johann Ludwig', '01:00:26', 'O2')\n",
      "('Zärtliche Liebe', '\"Zärtliche Liebe\" (Tender Love), WoO 123, or \"Ich liebe dich\", is a love song by Ludwig van Beethoven that was written in 1795 and first\\n         published in 1803. Beethoven was 25 years old when it was composed. The song is occasionally referred to by its first line, \"Ich liebe dich,\\n         so wie du mich.\"', '1791', 'Clássico', 'Reincken, Johann Adam', '00:25:01', 'O134')\n"
     ]
    }
   ],
   "source": [
    "print(myObras[0])\n",
    "print(myObras[1])"
   ]
  },
  {
   "cell_type": "code",
   "execution_count": 3,
   "id": "698c034b",
   "metadata": {},
   "outputs": [
    {
     "name": "stdout",
     "output_type": "stream",
     "text": [
      "174\n"
     ]
    }
   ],
   "source": [
    "tamnhoObras = obras.tamanhoObras(myObras)\n",
    "print (tamnhoObras)"
   ]
  },
  {
   "cell_type": "code",
   "execution_count": 4,
   "id": "034d74bd",
   "metadata": {},
   "outputs": [
    {
     "name": "stdout",
     "output_type": "stream",
     "text": [
      "{'1745': ['Rage Over a Lost Penny'], '1791': ['Zärtliche Liebe'], '1673': ['Military Band No. 1', 'Études Op. 25'], '1744': ['The Rondo'], '1470': ['Three Pieces for Orchestra'], '1749': ['Ab Irato'], '1418': ['Adagio in B minor'], '1589': ['Bagatelles, Opus 119', 'Six Pieces for Piano, Op. 118'], '1551': ['Bagatelles, Opus 33', 'Fantaisie brillante, Op. 22'], '1370': ['Ballade No.1'], '1481': ['Ballades, Op. 10'], '1763': ['Bamboula, Op. 2'], '1423': ['Barcarole Op. 60'], '1972': ['Berceuse', 'Peer Gynt Suite Suite No. 1'], '1855': ['Book II'], '1634': ['Cantatas, BWV 141-150'], '1795': ['Capriccio Italien'], '1563': ['Carnival Overture'], '1452': ['Coriolan Overture'], '1796': ['Czech Suite'], '1663': ['Die Ideale, S.106'], '1453': ['Dixit Dominus'], '1961': ['Eleven Chorale Preludes, Op. 122'], '1431': ['Eroica Variations', 'Variations on a Theme of Corelli, Op. 42'], '1598': ['Estampes'], '1341': ['Fantasia and Fugue, BWV 542, G minor'], '1442': ['Fantasia in D minor', 'Hungarian Rhapsody No. 13', 'Prélude, Choral et Fugue'], '1683': ['Fantasy No. 2'], '1864': ['Fantasy No. 4'], '1495': ['Fantasy on Hungarian Folk Themes'], '1412': ['Faust Overture'], '1640': ['Festklänge, S.101'], '1869': [\"Feu d'artifice\"], '1857': [\"Feuilles d'Album\", 'Psalm 42 , Op. 42'], '1810': ['French Overture'], '1602': ['Funeral March in Memory of Rikard Nordraak', 'Hungarian Rhapsody No. 10'], '1975': ['Fürchte dich nicht'], '1383': ['Gigue in G major, K. 574'], '1854': ['Grande Tarantelle'], '1330': ['Grande valse brillante', 'Tragic Overture'], '1565': ['Hamlet, S.104', 'Polonaises, Op.26', 'The Creatures of Prometheus'], '1454': ['Hungarian Rhapsody No. 11', 'La Savane', 'Serenade for Wind Instruments'], '1522': ['Hungarian Rhapsody No. 12'], '1788': ['Hungarian Rhapsody No. 14'], '1302': ['Hungarian Rhapsody No. 15'], '1706': ['Hungarian Rhapsody No. 16'], '1940': ['Hungarian Rhapsody No. 17'], '1798': ['Hungarian Rhapsody No. 18'], '1354': ['Hungarian Rhapsody No. 3'], '1377': ['Hungarian Rhapsody No. 4'], '1743': ['Hungarian Rhapsody No. 5'], '1485': ['Hungarian Rhapsody No. 7'], '1676': ['Hungarian Rhapsody No. 8', 'Transcendental Études'], '1994': ['Hungarian Rhapsody No. 9'], '1527': ['Hungarian Rhapsody No.1', 'Scherzo No.4'], '1818': ['Händelgesellschaft volume 50'], '1662': ['Impromptu Op.51'], '1376': ['Impromptu, Op. 29'], '2014': ['Impromptu, Op. 36'], '1775': [\"In Nature's Realm\"], '1716': ['In the Steppes of Central Asia'], '1867': [\"Jeux d'enfants\", 'Moments musicaux', 'Waltzes, Op. 34'], '1616': ['Komm, Jesu, komm!'], '1511': [\"L'Art de varier\"], '1576': ['Le Mancenillier'], '1595': ['Legends, Op.59', 'Marie-Magdeleine'], '2009': ['Les cinq doigts', 'Rhapsodies, Op. 79'], '1607': ['Liturgy of St. John Chrysostom'], '1860': ['Lobet den Herrn, alle Heiden'], '1761': ['Mass in C major'], '1366': ['Mazurkas, Op. 30'], '1737': ['Mazurkas, Op. 50'], '1534': ['Mazurkas, Op. 56'], '1368': ['Mazurkas, Op. 63'], '1428': ['Mazurkas, Op. 67'], '1459': ['Mazurkas, Op. 68'], '1482': ['Morceau de salon'], '1536': ['Morceaux de Salon, Op. 10'], '1594': ['Nocturne in A-flat'], '1667': ['Nocturne in C minor'], '1913': ['Nocturnes Op. Posth. 72', 'Sonatina in G'], '1572': ['Othello'], '1895': ['Overture, Scherzo and Finale'], '1715': ['Paganini Variations, Book I'], '1935': ['Papillons'], '1713': ['Polonaise Op. 44'], '1694': ['Polonaise-Fantasie'], '1672': ['Polonaises Op.71'], '2011': ['Polonaises, Op.40'], '1883': ['Preludes Op. 11'], '1719': ['Preludes Op. 11'], '1571': ['Preludes Op. 11', 'Scans of the Bach Gesellschaft edition of the Eight Short Preludes and Fugues'], '1462': ['Preludes Op. 11 No. 4'], '1712': ['Preludes Op. 49'], '1879': ['Preludes Op. 59'], '1307': ['Preludes Op. 74'], '2007': ['Preludes Opus 51'], '1624': ['Preludes, Op. 32'], '1373': ['Première rhapsodie'], '1729': ['Prince Rostislav'], '1858': ['Präludium und Fuge über das Thema B-A-C-H'], '1301': ['Rhapsodie Espagnole'], '1323': ['Romance in F major'], '1538': ['Romance in G major'], '1588': ['Rondo Op. 1'], '1691': ['Rondo Op. 5'], '1435': ['Rondo for Piano No. 3'], '1861': ['Salve Regina'], '1851': ['Scherzo No. 2', 'Études Op.10'], '1780': ['Scherzo No.3'], '1549': [\"Schubert's Valses Nobles\"], '1458': ['Serenade for Strings'], '1900': ['Serenade for Strings'], '1814': ['Serenade for Strings in G minor'], '1768': ['Serenata Notturna'], '1517': ['Shéhérazade', 'Variation on a Waltz by Diabelli'], '1726': ['Shéhérazade, ouverture de féerie'], '1931': ['Sigurd Jorsalfar'], '1930': ['Singet dem Herrn ein neues Lied'], '1938': ['Sonatas and Partitas for Solo Violin'], '1921': ['Sonatina in F major'], '2012': ['Sonnerie de Ste-Geneviève du Mont-de-Paris'], '1635': [\"St. Paul's Suite\"], '1756': ['Stabat Mater'], '1439': ['Suite No. 1 for two pianos'], '1477': ['Suite No. 2 for two pianos'], '1758': ['Suite for Orchestra in B minor'], '1432': ['Suite in D minor, HWV 437'], '1501': ['Symphonic Dances, Op. 64', 'Transcendental Études'], '1997': [\"Symphonic Poem No.1, Ce qu'on entend sur la montagne\"], '1720': ['Symphonies de Beethoven'], '1893': ['Syrinx'], '1417': ['Tapiola'], '1449': ['The Noon Witch'], '1968': ['The Storm, Op.76'], '1489': ['Transcendental Études'], '1561': ['Transcendental Études'], '1300': ['Tönet, ihr Pauken! Erschallet, Trompeten!, BWV 214'], '1643': ['Valse romantique'], '1313': ['Valses Sentimentales'], '1353': ['Variations in F minor'], '1944': ['Variations on a Theme of Chopin, Op. 22'], '1642': ['Vers la flamme'], '1337': ['Wedding day at Troldhaugen'], '1540': ['Études Op. 25'], '1863': ['Études Op. 25'], '1996': ['Études Op. 25'], '2002': ['Études Op. 25'], '1739': ['Études Op.10']}\n"
     ]
    }
   ],
   "source": [
    "from obras import titPorAno\n",
    "\n",
    "\n",
    "titPorAno = obras.titPorAno(myObras)\n",
    "print (titPorAno)\n"
   ]
  },
  {
   "cell_type": "code",
   "execution_count": 5,
   "id": "09534bc8",
   "metadata": {},
   "outputs": [
    {
     "name": "stdout",
     "output_type": "stream",
     "text": [
      "[('Ab Irato', '1749'), ('Adagio in B minor', '1418'), ('Bagatelles, Opus 119', '1589'), ('Bagatelles, Opus 33', '1551'), ('Ballade No.1', '1370'), ('Ballades, Op. 10', '1481'), ('Bamboula, Op. 2', '1763'), ('Barcarole Op. 60', '1423'), ('Berceuse', '1972'), ('Book II', '1855'), ('Cantatas, BWV 141-150', '1634'), ('Capriccio Italien', '1795'), ('Carnival Overture', '1563'), ('Coriolan Overture', '1452'), ('Czech Suite', '1796'), ('Die Ideale, S.106', '1663'), ('Dixit Dominus', '1453'), ('Eleven Chorale Preludes, Op. 122', '1961'), ('Eroica Variations', '1431'), ('Estampes', '1598'), ('Fantaisie brillante, Op. 22', '1551'), ('Fantasia and Fugue, BWV 542, G minor', '1341'), ('Fantasia in D minor', '1442'), ('Fantasy No. 2', '1683'), ('Fantasy No. 4', '1864'), ('Fantasy on Hungarian Folk Themes', '1495'), ('Faust Overture', '1412'), ('Festklänge, S.101', '1640'), (\"Feu d'artifice\", '1869'), (\"Feuilles d'Album\", '1857'), ('French Overture', '1810'), ('Funeral March in Memory of Rikard Nordraak', '1602'), ('Fürchte dich nicht', '1975'), ('Gigue in G major, K. 574', '1383'), ('Grande Tarantelle', '1854'), ('Grande valse brillante', '1330'), ('Hamlet, S.104', '1565'), ('Hungarian Rhapsody No. 10', '1602'), ('Hungarian Rhapsody No. 11', '1454'), ('Hungarian Rhapsody No. 12', '1522'), ('Hungarian Rhapsody No. 13', '1442'), ('Hungarian Rhapsody No. 14', '1788'), ('Hungarian Rhapsody No. 15', '1302'), ('Hungarian Rhapsody No. 16', '1706'), ('Hungarian Rhapsody No. 17', '1940'), ('Hungarian Rhapsody No. 18', '1798'), ('Hungarian Rhapsody No. 3', '1354'), ('Hungarian Rhapsody No. 4', '1377'), ('Hungarian Rhapsody No. 5', '1743'), ('Hungarian Rhapsody No. 7', '1485'), ('Hungarian Rhapsody No. 8', '1676'), ('Hungarian Rhapsody No. 9', '1994'), ('Hungarian Rhapsody No.1', '1527'), ('Händelgesellschaft volume 50', '1818'), ('Impromptu Op.51', '1662'), ('Impromptu, Op. 29', '1376'), ('Impromptu, Op. 36', '2014'), (\"In Nature's Realm\", '1775'), ('In the Steppes of Central Asia', '1716'), (\"Jeux d'enfants\", '1867'), ('Komm, Jesu, komm!', '1616'), (\"L'Art de varier\", '1511'), ('La Savane', '1454'), ('Le Mancenillier', '1576'), ('Legends, Op.59', '1595'), ('Les cinq doigts', '2009'), ('Liturgy of St. John Chrysostom', '1607'), ('Lobet den Herrn, alle Heiden', '1860'), ('Marie-Magdeleine', '1595'), ('Mass in C major', '1761'), ('Mazurkas, Op. 30', '1366'), ('Mazurkas, Op. 50', '1737'), ('Mazurkas, Op. 56', '1534'), ('Mazurkas, Op. 63', '1368'), ('Mazurkas, Op. 67', '1428'), ('Mazurkas, Op. 68', '1459'), ('Military Band No. 1', '1673'), ('Moments musicaux', '1867'), ('Morceau de salon', '1482'), ('Morceaux de Salon, Op. 10', '1536'), ('Nocturne in A-flat', '1594'), ('Nocturne in C minor', '1667'), ('Nocturnes Op. Posth. 72', '1913'), ('Othello', '1572'), ('Overture, Scherzo and Finale', '1895'), ('Paganini Variations, Book I', '1715'), ('Papillons', '1935'), ('Peer Gynt Suite Suite No. 1', '1972'), ('Polonaise Op. 44', '1713'), ('Polonaise-Fantasie', '1694'), ('Polonaises Op.71', '1672'), ('Polonaises, Op.26', '1565'), ('Polonaises, Op.40', '2011'), ('Preludes Op. 11', '1883'), ('Preludes Op. 11', '1719'), ('Preludes Op. 11', '1571'), ('Preludes Op. 11 No. 4', '1462'), ('Preludes Op. 49', '1712'), ('Preludes Op. 59', '1879'), ('Preludes Op. 74', '1307'), ('Preludes Opus 51', '2007'), ('Preludes, Op. 32', '1624'), ('Première rhapsodie', '1373'), ('Prince Rostislav', '1729'), ('Präludium und Fuge über das Thema B-A-C-H', '1858'), ('Prélude, Choral et Fugue', '1442'), ('Psalm 42 , Op. 42', '1857'), ('Rage Over a Lost Penny', '1745'), ('Rhapsodie Espagnole', '1301'), ('Rhapsodies, Op. 79', '2009'), ('Romance in F major', '1323'), ('Romance in G major', '1538'), ('Rondo Op. 1', '1588'), ('Rondo Op. 5', '1691'), ('Rondo for Piano No. 3', '1435'), ('Salve Regina', '1861'), ('Scans of the Bach Gesellschaft edition of the Eight Short Preludes and Fugues', '1571'), ('Scherzo No. 2', '1851'), ('Scherzo No.3', '1780'), ('Scherzo No.4', '1527'), (\"Schubert's Valses Nobles\", '1549'), ('Serenade for Strings', '1458'), ('Serenade for Strings', '1900'), ('Serenade for Strings in G minor', '1814'), ('Serenade for Wind Instruments', '1454'), ('Serenata Notturna', '1768'), ('Shéhérazade', '1517'), ('Shéhérazade, ouverture de féerie', '1726'), ('Sigurd Jorsalfar', '1931'), ('Singet dem Herrn ein neues Lied', '1930'), ('Six Pieces for Piano, Op. 118', '1589'), ('Sonatas and Partitas for Solo Violin', '1938'), ('Sonatina in F major', '1921'), ('Sonatina in G', '1913'), ('Sonnerie de Ste-Geneviève du Mont-de-Paris', '2012'), (\"St. Paul's Suite\", '1635'), ('Stabat Mater', '1756'), ('Suite No. 1 for two pianos', '1439'), ('Suite No. 2 for two pianos', '1477'), ('Suite for Orchestra in B minor', '1758'), ('Suite in D minor, HWV 437', '1432'), ('Symphonic Dances, Op. 64', '1501'), (\"Symphonic Poem No.1, Ce qu'on entend sur la montagne\", '1997'), ('Symphonies de Beethoven', '1720'), ('Syrinx', '1893'), ('Tapiola', '1417'), ('The Creatures of Prometheus', '1565'), ('The Noon Witch', '1449'), ('The Rondo', '1744'), ('The Storm, Op.76', '1968'), ('Three Pieces for Orchestra', '1470'), ('Tragic Overture', '1330'), ('Transcendental Études', '1676'), ('Transcendental Études', '1501'), ('Transcendental Études', '1489'), ('Transcendental Études', '1561'), ('Tönet, ihr Pauken! Erschallet, Trompeten!, BWV 214', '1300'), ('Valse romantique', '1643'), ('Valses Sentimentales', '1313'), ('Variation on a Waltz by Diabelli', '1517'), ('Variations in F minor', '1353'), ('Variations on a Theme of Chopin, Op. 22', '1944'), ('Variations on a Theme of Corelli, Op. 42', '1431'), ('Vers la flamme', '1642'), ('Waltzes, Op. 34', '1867'), ('Wedding day at Troldhaugen', '1337'), ('Zärtliche Liebe', '1791'), ('Études Op. 25', '1540'), ('Études Op. 25', '1863'), ('Études Op. 25', '1673'), ('Études Op. 25', '1996'), ('Études Op. 25', '2002'), ('Études Op.10', '1851'), ('Études Op.10', '1739')]\n"
     ]
    }
   ],
   "source": [
    "nomeano = obras.nomeano(myObras)\n",
    "print (nomeano)"
   ]
  },
  {
   "cell_type": "code",
   "execution_count": 6,
   "id": "bab553e9",
   "metadata": {},
   "outputs": [
    {
     "name": "stdout",
     "output_type": "stream",
     "text": [
      "['Alessandro Stradella', 'Antonio Maria Abbatini', 'Bach, Johann Christoph', 'Bach, Johann Michael', 'Bach, Wilhelm Friedemann', 'Balbastre, Claude', 'Baldassare Galuppi', 'Barbara of Portugal', 'Benda, Franz', 'Bernardo Pasquini', 'Biber, Heinrich Ignaz Franz', 'Bononcini, Giovanni Battista', 'Boyvin, Jacques', 'Bull, John', 'Cabanilles, Juan Bautista', 'Caldara, Antonio', 'Carissimi, Giacomo', 'Cavalli, Francesco', 'Cristofaro Caresana', 'David Perez', 'Dieterich Buxtehude', 'Domenico Scarlatti', 'Duarte Lobo', 'Duarte Lôbo', 'Durante, Francesco', 'Elisabeth Sophie of Mecklenburg', \"Emanuele d'Astorga\", 'Estevao de Brito', 'Fernandes, Gaspar', 'Filipe De Magalhaes', 'Friederike Sophie Wilhelmine', 'Froberger, Johann Jakob', 'Georg Bohm', 'Georg Muffat', 'Gibbons, Orlando', 'Gibbs, Joseph', 'Giovanni Battista Bassani', 'Giovanni Gabrieli', 'Giovanni Legrenzi', 'Giuseppe Tartini', 'Gregor Aichinger', 'Gregorio Allegri', 'Handel, George Frideric', 'Hans Leo Haßler', 'Hasse, Johann Adolph', 'Haym, Nicola Francesco', 'Heinrich Scheidemann', 'Henri Desmarets', 'Jan Pieterszoon Sweelinck', 'Jean-Joseph Mouret', 'Jean-Marie Leclair', 'Jeremiah Clarke', 'Johann Christoph(er) Pepusch', 'Johann David Heinichen', 'Johann Ernst Eberlin', 'Johann Hermann Schein', 'Johann Joachim Quantz', 'Johann Krieger', 'Johann Nicolaus Bach', 'John Blow', 'John Dowland', 'John Eccles', 'John IV', 'Krebs, Johann Ludwig', 'Leopold I', 'Louis Couperin', 'Lully, Jean-Baptiste', 'Lôbo, Duarte', 'Machado, Manuel', 'Madre De Deus, Filpe Da', 'Manuel Cardoso', 'Manuel Correia', 'Manuel Rodriguez Coelho', 'Marais, Marin', 'Marc-Antoine Charpentier', 'Martini, Giovanni Battista', 'Mattheson, Johann', 'Melchior Schildt', 'Michael Praetorius', 'Mondonville, Jean-Joseph', 'Monsieur de Sainte-Colombe', 'Monteverdi, Claudio', 'Neander, Joachim', 'Nicolas Siret', 'Nicolaus Bruhns', 'Nivers, Guillaume-Gabriel', 'Paolo Agostino', 'Pedro de Araujo', 'Pergolesi, Giovanni Battista', 'Peri, Jacopo', 'Peter Philips', 'Pierre Beauchamp', 'Pietro Della Valle', 'Rameau, Jean-Philippe', 'Reincken, Johann Adam', 'Robert Cambert', 'Rousseau, Jean-Jacques', 'Sammartini, Giovanni Battista', 'Sammartini, Giuseppe', 'Samuel Scheidt', 'Sanz, Gaspar', 'Schenck, Johannes', 'Seixas, Carlos', 'Stefano Landi', 'Strozzi, Barbara', 'Titelouze, Jean', 'Tomaso Albinoni', 'Viadana, Lodovico Grossi da', 'Weldon, John', 'Wilhelmine of Prussia']\n",
      "None\n"
     ]
    }
   ],
   "source": [
    "compOrd = obras.compOrd(myObras)\n",
    "print (compOrd)"
   ]
  },
  {
   "cell_type": "code",
   "execution_count": 7,
   "id": "b19d5b27",
   "metadata": {},
   "outputs": [
    {
     "name": "stdout",
     "output_type": "stream",
     "text": [
      "{'Barroco': 26, 'Clássico': 15, 'Medieval': 48, 'Renascimento': 41, 'Século XX': 18, 'Romântico': 19, 'Contemporâneo': 7}\n"
     ]
    }
   ],
   "source": [
    "distPeriodos = obras.distPeriodos(myObras)\n",
    "print (distPeriodos)"
   ]
  },
  {
   "cell_type": "code",
   "execution_count": 8,
   "id": "c8e65938",
   "metadata": {},
   "outputs": [
    {
     "name": "stdout",
     "output_type": "stream",
     "text": [
      "Há 1 compositores do ano 1745\n",
      "Há 1 compositores do ano 1791\n",
      "Há 1 compositores do ano 1673\n",
      "Há 1 compositores do ano 1744\n",
      "Há 1 compositores do ano 1470\n",
      "Há 1 compositores do ano 1749\n",
      "Há 1 compositores do ano 1418\n",
      "Há 1 compositores do ano 1589\n",
      "Há 1 compositores do ano 1551\n",
      "Há 1 compositores do ano 1370\n",
      "Há 1 compositores do ano 1481\n",
      "Há 1 compositores do ano 1763\n",
      "Há 1 compositores do ano 1423\n",
      "Há 1 compositores do ano 1972\n",
      "Há 1 compositores do ano 1855\n",
      "Há 1 compositores do ano 1634\n",
      "Há 1 compositores do ano 1795\n",
      "Há 1 compositores do ano 1563\n",
      "Há 1 compositores do ano 1452\n",
      "Há 1 compositores do ano 1796\n",
      "Há 1 compositores do ano 1663\n",
      "Há 1 compositores do ano 1453\n",
      "Há 1 compositores do ano 1961\n",
      "Há 1 compositores do ano 1431\n",
      "Há 1 compositores do ano 1598\n",
      "Há 2 compositores do ano 1551\n",
      "Há 1 compositores do ano 1341\n",
      "Há 1 compositores do ano 1442\n",
      "Há 1 compositores do ano 1683\n",
      "Há 1 compositores do ano 1864\n",
      "Há 1 compositores do ano 1495\n",
      "Há 1 compositores do ano 1412\n",
      "Há 1 compositores do ano 1640\n",
      "Há 1 compositores do ano 1869\n",
      "Há 1 compositores do ano 1857\n",
      "Há 1 compositores do ano 1810\n",
      "Há 1 compositores do ano 1602\n",
      "Há 1 compositores do ano 1975\n",
      "Há 1 compositores do ano 1383\n",
      "Há 1 compositores do ano 1854\n",
      "Há 1 compositores do ano 1330\n",
      "Há 1 compositores do ano 1565\n",
      "Há 2 compositores do ano 1602\n",
      "Há 1 compositores do ano 1454\n",
      "Há 1 compositores do ano 1522\n",
      "Há 2 compositores do ano 1442\n",
      "Há 1 compositores do ano 1788\n",
      "Há 1 compositores do ano 1302\n",
      "Há 1 compositores do ano 1706\n",
      "Há 1 compositores do ano 1940\n",
      "Há 1 compositores do ano 1798\n",
      "Há 1 compositores do ano 1354\n",
      "Há 1 compositores do ano 1377\n",
      "Há 1 compositores do ano 1743\n",
      "Há 1 compositores do ano 1485\n",
      "Há 1 compositores do ano 1676\n",
      "Há 1 compositores do ano 1994\n",
      "Há 1 compositores do ano 1527\n",
      "Há 1 compositores do ano 1818\n",
      "Há 1 compositores do ano 1662\n",
      "Há 1 compositores do ano 1376\n",
      "Há 1 compositores do ano 2014\n",
      "Há 1 compositores do ano 1775\n",
      "Há 1 compositores do ano 1716\n",
      "Há 1 compositores do ano 1867\n",
      "Há 1 compositores do ano 1616\n",
      "Há 1 compositores do ano 1511\n",
      "Há 2 compositores do ano 1454\n",
      "Há 1 compositores do ano 1576\n",
      "Há 1 compositores do ano 1595\n",
      "Há 1 compositores do ano 2009\n",
      "Há 1 compositores do ano 1607\n",
      "Há 1 compositores do ano 1860\n",
      "Há 2 compositores do ano 1595\n",
      "Há 1 compositores do ano 1761\n",
      "Há 1 compositores do ano 1366\n",
      "Há 1 compositores do ano 1737\n",
      "Há 1 compositores do ano 1534\n",
      "Há 1 compositores do ano 1368\n",
      "Há 1 compositores do ano 1428\n",
      "Há 1 compositores do ano 1459\n",
      "Há 2 compositores do ano 1867\n",
      "Há 1 compositores do ano 1482\n",
      "Há 1 compositores do ano 1536\n",
      "Há 1 compositores do ano 1594\n",
      "Há 1 compositores do ano 1667\n",
      "Há 1 compositores do ano 1913\n",
      "Há 1 compositores do ano 1572\n",
      "Há 1 compositores do ano 1895\n",
      "Há 1 compositores do ano 1715\n",
      "Há 1 compositores do ano 1935\n",
      "Há 2 compositores do ano 1972\n",
      "Há 1 compositores do ano 1713\n",
      "Há 1 compositores do ano 1694\n",
      "Há 1 compositores do ano 1672\n",
      "Há 2 compositores do ano 1565\n",
      "Há 1 compositores do ano 2011\n",
      "Há 1 compositores do ano 1883\n",
      "Há 1 compositores do ano 1719\n",
      "Há 1 compositores do ano 1571\n",
      "Há 1 compositores do ano 1462\n",
      "Há 1 compositores do ano 1712\n",
      "Há 1 compositores do ano 1879\n",
      "Há 1 compositores do ano 1307\n",
      "Há 1 compositores do ano 2007\n",
      "Há 1 compositores do ano 1624\n",
      "Há 1 compositores do ano 1373\n",
      "Há 1 compositores do ano 1729\n",
      "Há 1 compositores do ano 1858\n",
      "Há 3 compositores do ano 1442\n",
      "Há 2 compositores do ano 1857\n",
      "Há 1 compositores do ano 1301\n",
      "Há 2 compositores do ano 2009\n",
      "Há 1 compositores do ano 1323\n",
      "Há 1 compositores do ano 1538\n",
      "Há 1 compositores do ano 1588\n",
      "Há 1 compositores do ano 1691\n",
      "Há 1 compositores do ano 1435\n",
      "Há 1 compositores do ano 1861\n",
      "Há 2 compositores do ano 1571\n",
      "Há 1 compositores do ano 1851\n",
      "Há 1 compositores do ano 1780\n",
      "Há 2 compositores do ano 1527\n",
      "Há 1 compositores do ano 1549\n",
      "Há 1 compositores do ano 1458\n",
      "Há 1 compositores do ano 1900\n",
      "Há 1 compositores do ano 1814\n",
      "Há 3 compositores do ano 1454\n",
      "Há 1 compositores do ano 1768\n",
      "Há 1 compositores do ano 1517\n",
      "Há 1 compositores do ano 1726\n",
      "Há 1 compositores do ano 1931\n",
      "Há 1 compositores do ano 1930\n",
      "Há 2 compositores do ano 1589\n",
      "Há 1 compositores do ano 1938\n",
      "Há 1 compositores do ano 1921\n",
      "Há 2 compositores do ano 1913\n",
      "Há 1 compositores do ano 2012\n",
      "Há 1 compositores do ano 1635\n",
      "Há 1 compositores do ano 1756\n",
      "Há 1 compositores do ano 1439\n",
      "Há 1 compositores do ano 1477\n",
      "Há 1 compositores do ano 1758\n",
      "Há 1 compositores do ano 1432\n",
      "Há 1 compositores do ano 1501\n",
      "Há 1 compositores do ano 1997\n",
      "Há 1 compositores do ano 1720\n",
      "Há 1 compositores do ano 1893\n",
      "Há 1 compositores do ano 1417\n",
      "Há 3 compositores do ano 1565\n",
      "Há 1 compositores do ano 1449\n",
      "Há 1 compositores do ano 1968\n",
      "Há 2 compositores do ano 1330\n",
      "Há 2 compositores do ano 1676\n",
      "Há 2 compositores do ano 1501\n",
      "Há 1 compositores do ano 1489\n",
      "Há 1 compositores do ano 1561\n",
      "Há 1 compositores do ano 1300\n",
      "Há 1 compositores do ano 1643\n",
      "Há 1 compositores do ano 1313\n",
      "Há 2 compositores do ano 1517\n",
      "Há 1 compositores do ano 1353\n",
      "Há 1 compositores do ano 1944\n",
      "Há 2 compositores do ano 1431\n",
      "Há 1 compositores do ano 1642\n",
      "Há 3 compositores do ano 1867\n",
      "Há 1 compositores do ano 1337\n",
      "Há 1 compositores do ano 1540\n",
      "Há 1 compositores do ano 1863\n",
      "Há 2 compositores do ano 1673\n",
      "Há 1 compositores do ano 1996\n",
      "Há 1 compositores do ano 2002\n",
      "Há 2 compositores do ano 1851\n",
      "Há 1 compositores do ano 1739\n",
      "None\n"
     ]
    }
   ],
   "source": [
    "distAno = obras.distAno(myObras)\n",
    "print (distAno)"
   ]
  },
  {
   "cell_type": "code",
   "execution_count": 9,
   "id": "7f4d5c23",
   "metadata": {},
   "outputs": [
    {
     "name": "stdout",
     "output_type": "stream",
     "text": [
      "Há 1 obras feitas por Krebs, Johann Ludwig\n",
      "Há 1 obras feitas por Reincken, Johann Adam\n",
      "Há 1 obras feitas por Emanuele d'Astorga\n",
      "Há 1 obras feitas por Sammartini, Giovanni Battista\n",
      "Há 1 obras feitas por Nicolaus Bruhns\n",
      "Há 1 obras feitas por Johann David Heinichen\n",
      "Há 1 obras feitas por Durante, Francesco\n",
      "Há 1 obras feitas por Gregor Aichinger\n",
      "Há 1 obras feitas por Samuel Scheidt\n",
      "Há 1 obras feitas por Marc-Antoine Charpentier\n",
      "Há 1 obras feitas por Seixas, Carlos\n",
      "Há 1 obras feitas por Hasse, Johann Adolph\n",
      "Há 1 obras feitas por Melchior Schildt\n",
      "Há 1 obras feitas por Johann Nicolaus Bach\n",
      "Há 1 obras feitas por Monsieur de Sainte-Colombe\n",
      "Há 1 obras feitas por Sanz, Gaspar\n",
      "Há 1 obras feitas por Weldon, John\n",
      "Há 1 obras feitas por Nivers, Guillaume-Gabriel\n",
      "Há 1 obras feitas por Bach, Wilhelm Friedemann\n",
      "Há 1 obras feitas por Rousseau, Jean-Jacques\n",
      "Há 1 obras feitas por Mondonville, Jean-Joseph\n",
      "Há 1 obras feitas por Caldara, Antonio\n",
      "Há 1 obras feitas por Pergolesi, Giovanni Battista\n",
      "Há 1 obras feitas por Henri Desmarets\n",
      "Há 1 obras feitas por Manuel Rodriguez Coelho\n",
      "Há 1 obras feitas por Giovanni Gabrieli\n",
      "Há 1 obras feitas por Strozzi, Barbara\n",
      "Há 1 obras feitas por Marais, Marin\n",
      "Há 1 obras feitas por Sammartini, Giuseppe\n",
      "Há 1 obras feitas por John Blow\n",
      "Há 1 obras feitas por Carissimi, Giacomo\n",
      "Há 1 obras feitas por Friederike Sophie Wilhelmine\n",
      "Há 1 obras feitas por Manuel Correia\n",
      "Há 2 obras feitas por Krebs, Johann Ludwig\n",
      "Há 2 obras feitas por Carissimi, Giacomo\n",
      "Há 1 obras feitas por Pedro de Araujo\n",
      "Há 3 obras feitas por Carissimi, Giacomo\n",
      "Há 1 obras feitas por Johann Hermann Schein\n",
      "Há 1 obras feitas por Leopold I\n",
      "Há 1 obras feitas por Johann Christoph(er) Pepusch\n",
      "Há 1 obras feitas por Machado, Manuel\n",
      "Há 1 obras feitas por Peter Philips\n",
      "Há 2 obras feitas por Gregor Aichinger\n",
      "Há 2 obras feitas por Weldon, John\n",
      "Há 1 obras feitas por Froberger, Johann Jakob\n",
      "Há 1 obras feitas por Jean-Marie Leclair\n",
      "Há 1 obras feitas por Pietro Della Valle\n",
      "Há 1 obras feitas por Dieterich Buxtehude\n",
      "Há 1 obras feitas por Neander, Joachim\n",
      "Há 1 obras feitas por Jean-Joseph Mouret\n",
      "Há 2 obras feitas por Rousseau, Jean-Jacques\n",
      "Há 2 obras feitas por Caldara, Antonio\n",
      "Há 1 obras feitas por Georg Bohm\n",
      "Há 2 obras feitas por Bach, Wilhelm Friedemann\n",
      "Há 1 obras feitas por Baldassare Galuppi\n",
      "Há 1 obras feitas por Haym, Nicola Francesco\n",
      "Há 1 obras feitas por Wilhelmine of Prussia\n",
      "Há 1 obras feitas por John Dowland\n",
      "Há 1 obras feitas por Bernardo Pasquini\n",
      "Há 1 obras feitas por Gibbs, Joseph\n",
      "Há 1 obras feitas por Bull, John\n",
      "Há 1 obras feitas por Estevao de Brito\n",
      "Há 2 obras feitas por Neander, Joachim\n",
      "Há 2 obras feitas por Emanuele d'Astorga\n",
      "Há 1 obras feitas por Barbara of Portugal\n",
      "Há 1 obras feitas por Duarte Lobo\n",
      "Há 2 obras feitas por John Dowland\n",
      "Há 1 obras feitas por Benda, Franz\n",
      "Há 1 obras feitas por Gregorio Allegri\n",
      "Há 1 obras feitas por Duarte Lôbo\n",
      "Há 1 obras feitas por Peri, Jacopo\n",
      "Há 2 obras feitas por Manuel Rodriguez Coelho\n",
      "Há 1 obras feitas por Jan Pieterszoon Sweelinck\n",
      "Há 1 obras feitas por Heinrich Scheidemann\n",
      "Há 2 obras feitas por Manuel Correia\n",
      "Há 1 obras feitas por Bach, Johann Michael\n",
      "Há 2 obras feitas por Haym, Nicola Francesco\n",
      "Há 1 obras feitas por Robert Cambert\n",
      "Há 2 obras feitas por Bach, Johann Michael\n",
      "Há 2 obras feitas por Estevao de Brito\n",
      "Há 1 obras feitas por Mattheson, Johann\n",
      "Há 1 obras feitas por Giovanni Battista Bassani\n",
      "Há 1 obras feitas por Lully, Jean-Baptiste\n",
      "Há 2 obras feitas por Samuel Scheidt\n",
      "Há 1 obras feitas por Gibbons, Orlando\n",
      "Há 1 obras feitas por Nicolas Siret\n",
      "Há 2 obras feitas por Gibbons, Orlando\n",
      "Há 2 obras feitas por Robert Cambert\n",
      "Há 1 obras feitas por Johann Krieger\n",
      "Há 1 obras feitas por Bononcini, Giovanni Battista\n",
      "Há 2 obras feitas por Giovanni Battista Bassani\n",
      "Há 1 obras feitas por Giovanni Legrenzi\n",
      "Há 2 obras feitas por Gibbs, Joseph\n",
      "Há 2 obras feitas por Benda, Franz\n",
      "Há 3 obras feitas por Caldara, Antonio\n",
      "Há 1 obras feitas por Cristofaro Caresana\n",
      "Há 2 obras feitas por Hasse, Johann Adolph\n",
      "Há 1 obras feitas por Michael Praetorius\n",
      "Há 4 obras feitas por Caldara, Antonio\n",
      "Há 1 obras feitas por Pierre Beauchamp\n",
      "Há 1 obras feitas por Balbastre, Claude\n",
      "Há 1 obras feitas por David Perez\n",
      "Há 1 obras feitas por John IV\n",
      "Há 2 obras feitas por Jan Pieterszoon Sweelinck\n",
      "Há 3 obras feitas por Bach, Wilhelm Friedemann\n",
      "Há 2 obras feitas por Reincken, Johann Adam\n",
      "Há 2 obras feitas por John IV\n",
      "Há 3 obras feitas por Benda, Franz\n",
      "Há 2 obras feitas por Peter Philips\n",
      "Há 2 obras feitas por Jean-Marie Leclair\n",
      "Há 1 obras feitas por Cavalli, Francesco\n",
      "Há 3 obras feitas por Neander, Joachim\n",
      "Há 1 obras feitas por Stefano Landi\n",
      "Há 2 obras feitas por John Blow\n",
      "Há 1 obras feitas por Monteverdi, Claudio\n",
      "Há 1 obras feitas por Lôbo, Duarte\n",
      "Há 1 obras feitas por Rameau, Jean-Philippe\n",
      "Há 1 obras feitas por Titelouze, Jean\n",
      "Há 2 obras feitas por Friederike Sophie Wilhelmine\n",
      "Há 1 obras feitas por Cabanilles, Juan Bautista\n",
      "Há 1 obras feitas por Domenico Scarlatti\n",
      "Há 1 obras feitas por Schenck, Johannes\n",
      "Há 1 obras feitas por Bach, Johann Christoph\n",
      "Há 1 obras feitas por Madre De Deus, Filpe Da\n",
      "Há 1 obras feitas por Manuel Cardoso\n",
      "Há 2 obras feitas por Pedro de Araujo\n",
      "Há 1 obras feitas por Biber, Heinrich Ignaz Franz\n",
      "Há 1 obras feitas por Tomaso Albinoni\n",
      "Há 1 obras feitas por Johann Joachim Quantz\n",
      "Há 1 obras feitas por Antonio Maria Abbatini\n",
      "Há 2 obras feitas por Barbara of Portugal\n",
      "Há 2 obras feitas por Johann Joachim Quantz\n",
      "Há 1 obras feitas por Paolo Agostino\n",
      "Há 3 obras feitas por Manuel Correia\n",
      "Há 1 obras feitas por Giuseppe Tartini\n",
      "Há 2 obras feitas por Balbastre, Claude\n",
      "Há 2 obras feitas por Monsieur de Sainte-Colombe\n",
      "Há 3 obras feitas por Krebs, Johann Ludwig\n",
      "Há 2 obras feitas por Cabanilles, Juan Bautista\n",
      "Há 2 obras feitas por Pergolesi, Giovanni Battista\n",
      "Há 1 obras feitas por Alessandro Stradella\n",
      "Há 3 obras feitas por Friederike Sophie Wilhelmine\n",
      "Há 1 obras feitas por Handel, George Frideric\n",
      "Há 1 obras feitas por Martini, Giovanni Battista\n",
      "Há 3 obras feitas por John Dowland\n",
      "Há 1 obras feitas por Boyvin, Jacques\n",
      "Há 2 obras feitas por Jean-Joseph Mouret\n",
      "Há 1 obras feitas por Elisabeth Sophie of Mecklenburg\n",
      "Há 3 obras feitas por John Blow\n",
      "Há 1 obras feitas por Viadana, Lodovico Grossi da\n",
      "Há 3 obras feitas por John IV\n",
      "Há 4 obras feitas por Manuel Correia\n",
      "Há 3 obras feitas por Peter Philips\n",
      "Há 1 obras feitas por John Eccles\n",
      "Há 2 obras feitas por Viadana, Lodovico Grossi da\n",
      "Há 1 obras feitas por Hans Leo Haßler\n",
      "Há 3 obras feitas por Robert Cambert\n",
      "Há 2 obras feitas por Durante, Francesco\n",
      "Há 2 obras feitas por Titelouze, Jean\n",
      "Há 1 obras feitas por Fernandes, Gaspar\n",
      "Há 2 obras feitas por Stefano Landi\n",
      "Há 1 obras feitas por Louis Couperin\n",
      "Há 1 obras feitas por Jeremiah Clarke\n",
      "Há 1 obras feitas por Johann Ernst Eberlin\n",
      "Há 2 obras feitas por Paolo Agostino\n",
      "Há 2 obras feitas por Giovanni Gabrieli\n",
      "Há 2 obras feitas por Johann Ernst Eberlin\n",
      "Há 1 obras feitas por Filipe De Magalhaes\n",
      "Há 3 obras feitas por Weldon, John\n",
      "Há 1 obras feitas por Georg Muffat\n",
      "Há 3 obras feitas por Reincken, Johann Adam\n",
      "Há 3 obras feitas por Jean-Joseph Mouret\n",
      "Há 2 obras feitas por Martini, Giovanni Battista\n",
      "Há 2 obras feitas por Nicolaus Bruhns\n",
      "None\n"
     ]
    }
   ],
   "source": [
    "distComp = obras.distComp(myObras)\n",
    "print (distComp)"
   ]
  },
  {
   "cell_type": "code",
   "execution_count": 10,
   "id": "f0f5f87f",
   "metadata": {},
   "outputs": [
    {
     "data": {
      "image/png": "[encoded data removed]",
      "text/plain": [
       "<Figure size 640x480 with 1 Axes>"
      ]
     },
     "metadata": {},
     "output_type": "display_data"
    }
   ],
   "source": [
    "graficoObrasPorPeriodo = obras.grafico(distPeriodos)"
   ]
  },
  {
   "cell_type": "code",
   "execution_count": 11,
   "id": "7516941a",
   "metadata": {},
   "outputs": [
    {
     "data": {
      "image/png": "[encoded data removed]",
      "text/plain": [
       "<Figure size 640x480 with 1 Axes>"
      ]
     },
     "metadata": {},
     "output_type": "display_data"
    }
   ],
   "source": [
    "graficoObrasPorAno = obras.grafico(distPeriodos)"
   ]
  },
  {
   "cell_type": "code",
   "execution_count": 12,
   "id": "5ea59308",
   "metadata": {},
   "outputs": [
    {
     "ename": "TypeError",
     "evalue": "'NoneType' object is not iterable",
     "output_type": "error",
     "traceback": [
      "\u001b[1;31m---------------------------------------------------------------------------\u001b[0m",
      "\u001b[1;31mTypeError\u001b[0m                                 Traceback (most recent call last)",
      "Cell \u001b[1;32mIn [12], line 1\u001b[0m\n\u001b[1;32m----> 1\u001b[0m graficoObrasPorCompositor \u001b[39m=\u001b[39m obras\u001b[39m.\u001b[39mdesenhargrafico(distComp)\n",
      "File \u001b[1;32mc:\\Users\\MS-FD\\Desktop\\tpc6\\obras.py:121\u001b[0m, in \u001b[0;36mdesenhargrafico\u001b[1;34m(dicio)\u001b[0m\n\u001b[0;32m    119\u001b[0m x \u001b[39m=\u001b[39m []\n\u001b[0;32m    120\u001b[0m y \u001b[39m=\u001b[39m []\n\u001b[1;32m--> 121\u001b[0m \u001b[39mfor\u001b[39;00m key \u001b[39min\u001b[39;00m dicio:\n\u001b[0;32m    122\u001b[0m     x\u001b[39m.\u001b[39mappend(key)\n\u001b[0;32m    123\u001b[0m     y\u001b[39m.\u001b[39mappend(dicio[key])\n",
      "\u001b[1;31mTypeError\u001b[0m: 'NoneType' object is not iterable"
     ]
    }
   ],
   "source": [
    "graficoObrasPorCompositor = obras.desenhargrafico(distComp)"
   ]
  },
  {
   "cell_type": "code",
   "execution_count": null,
   "id": "6c19480e",
   "metadata": {},
   "outputs": [],
   "source": []
  },
  {
   "cell_type": "markdown",
   "id": "52ef42bc",
   "metadata": {},
   "source": [
    "#### Pretty Print: Como escrever de forma formatada e alinhada, os modificadores do `print`\n",
    "\n",
    "Sintaxe:\n",
    "\n",
    "print(f\"{exp:modificador}\")"
   ]
  },
  {
   "cell_type": "markdown",
   "id": "9761d73f",
   "metadata": {},
   "source": [
    "### Metodologia\n",
    "\n",
    "Ao longo dos próximos exercícios irás construir um módulo Python para desenho usando a biblioteca `matplotlib`.\n",
    "Nesse sentido, coloca todas as funções que desenvolveres num módulo chamado `myDrawingFunctions.py` que deverás importar nos programas que irás desenvolver neste guião."
   ]
  },
  {
   "cell_type": "markdown",
   "id": "1d9c2fbc",
   "metadata": {},
   "source": [
    "### Exercício 2: O quadrado \n",
    "\n",
    "Especifica, no teu módulo, uma função para desenhar um quadrado. Além do lado, pensa em parâmetros que te permitam posicionar o quadrado no plano xy.\n",
    "\n",
    "Importa o módulo num programa que irá desenhar os seguintes quadrados:\n",
    "* 1 quadrado de 100 unidades de lado, centrado na origem;\n",
    "* 99 quadrados, dentro do quadrado inicial, em que as coordenadas do canto inferior esquerdo vão sendo incrementadas de 1, ou o lado decrementado de 1."
   ]
  },
  {
   "cell_type": "code",
   "execution_count": null,
   "id": "fde54325",
   "metadata": {},
   "outputs": [],
   "source": [
    "# Solução do exercício 2\n",
    "import myDrawingFunctions as draw\n",
    "\n",
    "draw.quad(0, 0, 100)\n",
    "draw.nquad(0, 0, [x for x in range(1, 101, 5)])"
   ]
  },
  {
   "cell_type": "markdown",
   "id": "57f1522d",
   "metadata": {},
   "source": [
    "### Exercício 3: O retângulo\n",
    "\n",
    "Acrescenta ao teu módulo uma função para desenhar um retângulo devidamente posicionado. Acrescenta um parâmetro cor.\n",
    "\n",
    "Usa agora as funcionalidades do teu módulo para desenhar os seguintes retângulos:\n",
    "* 1 retângulo com o canto inferior esquerdo em (0,0) e o canto superior direito em (5,10);\n",
    "* 10 retângulos, lado a lado, em que os ímpares têm altura 100 e largura 20 e os pares altura 70 e largura 10;\n",
    "* Faz variar a cor entre os retângulos. "
   ]
  },
  {
   "cell_type": "code",
   "execution_count": null,
   "id": "199c3004",
   "metadata": {},
   "outputs": [],
   "source": [
    "# Solução do exercício 3\n",
    "import myDrawingFunctions as draw\n",
    "\n",
    "draw.rect(0, 0, 5, 100)\n"
   ]
  },
  {
   "cell_type": "markdown",
   "id": "08100b64",
   "metadata": {},
   "source": [
    "### Exercício 4: O círculo\n",
    "\n",
    "Acrescenta ao teu módulo uma função para desenhar um círculo devidamente posicionado. Acrescenta um parâmetro cor.\n",
    "\n",
    "Usa agora as funcionalidades do teu módulo para desenhar os seguintes círculos:\n",
    "* 1 círculo de raio 10, centrado na origem;\n",
    "* 10 círculos, concêntricos, centrados na origem, com lados `[10,20,30,40,50,60,70,80,90,100]`;\n",
    "* Faz variar a cor entre os círculos. "
   ]
  },
  {
   "cell_type": "code",
   "execution_count": null,
   "id": "d08949e6",
   "metadata": {},
   "outputs": [],
   "source": [
    "# Solução do exercício 4\n",
    "import myDrawingFunctions as draw\n",
    "\n",
    "draw.circ(0, 0, 10)\n",
    "# ..."
   ]
  },
  {
   "cell_type": "markdown",
   "id": "4193a91b",
   "metadata": {},
   "source": [
    "### TPC6: Análise de dados\n",
    "Completar a resolução do exercicio 1:\n",
    "\n",
    "Obras.py\n",
    "\n",
    "main.py (contem a demonstração das funcionalidades desenvolvidas em obras.py)\n",
    "\n"
   ]
  }
 ],
 "metadata": {
  "kernelspec": {
   "display_name": "Python 3.10.7 64-bit",
   "language": "python",
   "name": "python3"
  },
  "language_info": {
   "codemirror_mode": {
    "name": "ipython",
    "version": 3
   },
   "file_extension": ".py",
   "mimetype": "text/x-python",
   "name": "python",
   "nbconvert_exporter": "python",
   "pygments_lexer": "ipython3",
   "version": "3.10.7"
  },
  "vscode": {
   "interpreter": {
    "hash": "14c278ee34bf5f9bb5b29d161632687207780f9a2b4c35a5d97fe65c41f2ad20"
   }
  }
 },
 "nbformat": 4,
 "nbformat_minor": 5
}
